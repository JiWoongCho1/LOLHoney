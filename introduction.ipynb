{
 "cells": [
  {
   "cell_type": "code",
   "execution_count": 1,
   "metadata": {},
   "outputs": [],
   "source": [
    "import requests\n",
    "import json\n",
    "import pandas as pd\n",
    "import time\n",
    "from urllib import parse # 한글"
   ]
  },
  {
   "cell_type": "code",
   "execution_count": 2,
   "metadata": {},
   "outputs": [],
   "source": [
    "api_key = 'RGAPI-cf6451c4-7371-4d57-8ab1-c890743fe164' # 본인의 API KEY 입력\n",
    "REQUEST_HEADERS = {\n",
    "    \"User-Agent\": \"Mozilla/5.0 (Windows NT 10.0; Win64; x64) AppleWebKit/537.36 (KHTML, like Gecko) Chrome/126.0.0.0 Safari/537.36\",\n",
    "    \"Accept-Language\": \"ko-KR,ko;q=0.9,en-US;q=0.8,en;q=0.7\",\n",
    "    \"Accept-Charset\": \"application/x-www-form-urlencoded; charset=UTF-8\",\n",
    "    \"Origin\": \"https://developer.riotgames.com\",\n",
    "    \"X-Riot-Token\": api_key\n",
    "}"
   ]
  },
  {
   "cell_type": "code",
   "execution_count": 3,
   "metadata": {},
   "outputs": [
    {
     "name": "stdout",
     "output_type": "stream",
     "text": [
      "%EC%84%B8%EC%83%81%EC%9D%84%20%ED%96%A5%ED%95%B4%20%EC%99%B8%EC%B3%90%EB%9D%BC\n"
     ]
    },
    {
     "data": {
      "text/plain": [
       "{'id': 'Wrgif2k1tLvyIWJR7kvcZ7_dK6cZHBI1nt7vrGZBvuYilL0',\n",
       " 'accountId': '8OuvSXlDYELOyBKrDGmNr3kHBf92vWx8EtyNylATcW_D',\n",
       " 'puuid': 'WgXkRBJDy79YL7GIOSc0nC-WeTSEo8K8neexyTRcSDVxcMIYP1K0NGz3xRpXduWUjvNbaBAheOIX5A',\n",
       " 'profileIconId': 1661,\n",
       " 'revisionDate': 1736068091684,\n",
       " 'summonerLevel': 342}"
      ]
     },
     "execution_count": 3,
     "metadata": {},
     "output_type": "execute_result"
    }
   ],
   "source": [
    "userNickname=\"세상을 향해 외쳐라\"\n",
    "tagLine=\"korea\"\n",
    "encodedName = parse.quote(userNickname)\n",
    "print(encodedName)\n",
    "url = f\"https://asia.api.riotgames.com/riot/account/v1/accounts/by-riot-id/{encodedName}/{tagLine}\"  ## 해당 api 통해 puuid 얻음\n",
    "\n",
    "player_id = requests.get(url, headers=REQUEST_HEADERS).json()\n",
    "puuid = player_id['puuid']\n",
    "player = requests.get(f\"https://kr.api.riotgames.com/lol/summoner/v4/summoners/by-puuid/{puuid}\", headers=REQUEST_HEADERS).json()\n",
    "player"
   ]
  },
  {
   "cell_type": "code",
   "execution_count": 16,
   "metadata": {},
   "outputs": [
    {
     "data": {
      "text/plain": [
       "[{'leagueId': 'f5804293-1291-4766-92be-45ce03e0bc69',\n",
       "  'queueType': 'RANKED_FLEX_SR',\n",
       "  'tier': 'EMERALD',\n",
       "  'rank': 'I',\n",
       "  'summonerId': 'Wrgif2k1tLvyIWJR7kvcZ7_dK6cZHBI1nt7vrGZBvuYilL0',\n",
       "  'leaguePoints': 63,\n",
       "  'wins': 11,\n",
       "  'losses': 9,\n",
       "  'veteran': False,\n",
       "  'inactive': False,\n",
       "  'freshBlood': False,\n",
       "  'hotStreak': False},\n",
       " {'leagueId': 'af4065de-451d-4235-a11e-88bf51644341',\n",
       "  'queueType': 'RANKED_SOLO_5x5',\n",
       "  'tier': 'EMERALD',\n",
       "  'rank': 'II',\n",
       "  'summonerId': 'Wrgif2k1tLvyIWJR7kvcZ7_dK6cZHBI1nt7vrGZBvuYilL0',\n",
       "  'leaguePoints': 45,\n",
       "  'wins': 61,\n",
       "  'losses': 58,\n",
       "  'veteran': False,\n",
       "  'inactive': False,\n",
       "  'freshBlood': True,\n",
       "  'hotStreak': False}]"
      ]
     },
     "execution_count": 16,
     "metadata": {},
     "output_type": "execute_result"
    }
   ],
   "source": [
    "# playerInfo = requests.get(\"https://kr.api.riotgames.com/lol/league/v4/entries/by-summoner/\"+player['id'], headers = REQUEST_HEADERS).json();\n",
    "# playerInfo"
   ]
  },
  {
   "cell_type": "code",
   "execution_count": null,
   "metadata": {},
   "outputs": [],
   "source": []
  }
 ],
 "metadata": {
  "kernelspec": {
   "display_name": "riot",
   "language": "python",
   "name": "python3"
  },
  "language_info": {
   "codemirror_mode": {
    "name": "ipython",
    "version": 3
   },
   "file_extension": ".py",
   "mimetype": "text/x-python",
   "name": "python",
   "nbconvert_exporter": "python",
   "pygments_lexer": "ipython3",
   "version": "3.7.12"
  }
 },
 "nbformat": 4,
 "nbformat_minor": 2
}
